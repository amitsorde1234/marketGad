{
  "nbformat": 4,
  "nbformat_minor": 0,
  "metadata": {
    "colab": {
      "name": "image classification with class 200",
      "provenance": [],
      "collapsed_sections": []
    },
    "kernelspec": {
      "name": "python3",
      "display_name": "Python 3"
    },
    "accelerator": "GPU"
  },
  "cells": [
    {
      "cell_type": "markdown",
      "metadata": {
        "id": "Gn2loe2dEUg5"
      },
      "source": [
        "**train model with 200 classes is hard that why  i have taken first 2 class and train  a model got 94% accuracy after that i have taken 20 classes train a model get 75% accuray .**"
      ]
    },
    {
      "cell_type": "code",
      "metadata": {
        "id": "dRfv7xtWhvbT"
      },
      "source": [
        "#!unzip /content/drive/MyDrive/archive.zip\r\n",
        "!pip install livelossplot"
      ],
      "execution_count": null,
      "outputs": []
    },
    {
      "cell_type": "code",
      "metadata": {
        "id": "e2Ye1Kch-jka"
      },
      "source": [
        "from keras.utils.vis_utils import plot_model\r\n",
        "import keras\r\n",
        "import keras.backend as K\r\n",
        "import tensorflow as tf\r\n",
        "from keras.datasets import cifar10\r\n",
        "from keras.models import Model\r\n",
        "from keras.layers import Conv2D, MaxPool2D,  \\\r\n",
        "    Dropout, Dense, Input, concatenate,      \\\r\n",
        "    GlobalAveragePooling2D, AveragePooling2D,\\\r\n",
        "    Flatten\r\n",
        "from keras.datasets import cifar10 \r\n",
        "from keras import backend as K \r\n",
        "from keras.utils import np_utils\r\n",
        "import math \r\n",
        "from keras.optimizers import SGD \r\n",
        "from keras.callbacks import LearningRateScheduler\r\n",
        "from tensorflow.keras import layers\r\n",
        "from tensorflow.keras import initializers\r\n",
        "from tensorflow.keras.layers import MaxPooling2D\r\n",
        "from keras.layers import Dense, Embedding, LSTM, GRU, Flatten, Dropout, Lambda\r\n",
        "from tensorflow.keras.layers import GlobalAveragePooling2D\r\n",
        "from keras.layers import BatchNormalization\r\n",
        "from keras.layers import AveragePooling2D\r\n",
        "from keras.preprocessing.image import ImageDataGenerator\r\n",
        "from keras.models import Sequential\r\n",
        "from keras.optimizers import Adam\r\n",
        "from keras.layers import BatchNormalization\r\n",
        "from livelossplot import PlotLossesKeras"
      ],
      "execution_count": 41,
      "outputs": []
    },
    {
      "cell_type": "code",
      "metadata": {
        "id": "ajDb-reMtWZ6"
      },
      "source": [
        "import pandas as pd\r\n",
        "import numpy as np\r\n",
        "import os\r\n",
        "import cv2\r\n",
        "from google.colab.patches import cv2_imshow\r\n",
        "from numpy import array\r\n",
        "from numpy import argmax\r\n",
        "from sklearn.preprocessing import LabelEncoder\r\n",
        "from sklearn.preprocessing import OneHotEncoder\r\n",
        "from keras.preprocessing.image import ImageDataGenerator\r\n",
        "from sklearn.model_selection import train_test_split"
      ],
      "execution_count": 42,
      "outputs": []
    },
    {
      "cell_type": "markdown",
      "metadata": {
        "id": "XkP8ImtoDVHj"
      },
      "source": [
        "**prepair the data**"
      ]
    },
    {
      "cell_type": "code",
      "metadata": {
        "id": "KqaSwccYlE70"
      },
      "source": [
        "\r\n",
        "clas=[]\r\n",
        "for i ,j, k in os.walk(\"/content/tiny-imagenet-200/train\"):\r\n",
        "  clas.append(j)\r\n",
        "  break"
      ],
      "execution_count": 43,
      "outputs": []
    },
    {
      "cell_type": "code",
      "metadata": {
        "id": "EgRRYd_9m-c-"
      },
      "source": [
        "path=\"/content/tiny-imagenet-200/train/\"\r\n",
        "c=0\r\n",
        "data=[]\r\n",
        "clas1=[]\r\n",
        "for i in clas[0]:\r\n",
        "  path1=path+str(i)\r\n",
        "  for i ,j, k in os.walk(path1):\r\n",
        "    for file in k:\r\n",
        "      pat=os.path.join(i,file)\r\n",
        "      data.append(pat)\r\n",
        "      clas1.append(c)\r\n",
        "  c=c+1\r\n"
      ],
      "execution_count": 44,
      "outputs": []
    },
    {
      "cell_type": "code",
      "metadata": {
        "id": "_OEv61Jkskt-"
      },
      "source": [
        "newdata=pd.DataFrame()\r\n",
        "newdata[\"image\"]=data\r\n",
        "newdata[\"clas\"]=clas1"
      ],
      "execution_count": 45,
      "outputs": []
    },
    {
      "cell_type": "markdown",
      "metadata": {
        "id": "JMNl_X9ADfZN"
      },
      "source": [
        "**taking 2 and 20 classess first**"
      ]
    },
    {
      "cell_type": "code",
      "metadata": {
        "id": "p9sdtTV8zw0A"
      },
      "source": [
        "clas2=newdata[0:1000]\r\n",
        "clas10=newdata[0:10000]\r\n",
        "\r\n"
      ],
      "execution_count": 46,
      "outputs": []
    },
    {
      "cell_type": "markdown",
      "metadata": {
        "id": "21Hr7iSa2TLy"
      },
      "source": [
        "**first take class 2**"
      ]
    },
    {
      "cell_type": "code",
      "metadata": {
        "colab": {
          "base_uri": "https://localhost:8080/",
          "height": 411
        },
        "id": "yIfSqg7NtPBK",
        "outputId": "1dd549fe-c5a3-4961-c0de-ee09b55c2bb2"
      },
      "source": [
        "newdata=clas2\r\n",
        "newdata"
      ],
      "execution_count": 47,
      "outputs": [
        {
          "output_type": "execute_result",
          "data": {
            "text/html": [
              "<div>\n",
              "<style scoped>\n",
              "    .dataframe tbody tr th:only-of-type {\n",
              "        vertical-align: middle;\n",
              "    }\n",
              "\n",
              "    .dataframe tbody tr th {\n",
              "        vertical-align: top;\n",
              "    }\n",
              "\n",
              "    .dataframe thead th {\n",
              "        text-align: right;\n",
              "    }\n",
              "</style>\n",
              "<table border=\"1\" class=\"dataframe\">\n",
              "  <thead>\n",
              "    <tr style=\"text-align: right;\">\n",
              "      <th></th>\n",
              "      <th>image</th>\n",
              "      <th>clas</th>\n",
              "    </tr>\n",
              "  </thead>\n",
              "  <tbody>\n",
              "    <tr>\n",
              "      <th>0</th>\n",
              "      <td>/content/tiny-imagenet-200/train/n02281406/n02...</td>\n",
              "      <td>0</td>\n",
              "    </tr>\n",
              "    <tr>\n",
              "      <th>1</th>\n",
              "      <td>/content/tiny-imagenet-200/train/n02281406/ima...</td>\n",
              "      <td>0</td>\n",
              "    </tr>\n",
              "    <tr>\n",
              "      <th>2</th>\n",
              "      <td>/content/tiny-imagenet-200/train/n02281406/ima...</td>\n",
              "      <td>0</td>\n",
              "    </tr>\n",
              "    <tr>\n",
              "      <th>3</th>\n",
              "      <td>/content/tiny-imagenet-200/train/n02281406/ima...</td>\n",
              "      <td>0</td>\n",
              "    </tr>\n",
              "    <tr>\n",
              "      <th>4</th>\n",
              "      <td>/content/tiny-imagenet-200/train/n02281406/ima...</td>\n",
              "      <td>0</td>\n",
              "    </tr>\n",
              "    <tr>\n",
              "      <th>...</th>\n",
              "      <td>...</td>\n",
              "      <td>...</td>\n",
              "    </tr>\n",
              "    <tr>\n",
              "      <th>995</th>\n",
              "      <td>/content/tiny-imagenet-200/train/n02814533/ima...</td>\n",
              "      <td>1</td>\n",
              "    </tr>\n",
              "    <tr>\n",
              "      <th>996</th>\n",
              "      <td>/content/tiny-imagenet-200/train/n02814533/ima...</td>\n",
              "      <td>1</td>\n",
              "    </tr>\n",
              "    <tr>\n",
              "      <th>997</th>\n",
              "      <td>/content/tiny-imagenet-200/train/n02814533/ima...</td>\n",
              "      <td>1</td>\n",
              "    </tr>\n",
              "    <tr>\n",
              "      <th>998</th>\n",
              "      <td>/content/tiny-imagenet-200/train/n02814533/ima...</td>\n",
              "      <td>1</td>\n",
              "    </tr>\n",
              "    <tr>\n",
              "      <th>999</th>\n",
              "      <td>/content/tiny-imagenet-200/train/n02814533/ima...</td>\n",
              "      <td>1</td>\n",
              "    </tr>\n",
              "  </tbody>\n",
              "</table>\n",
              "<p>1000 rows × 2 columns</p>\n",
              "</div>"
            ],
            "text/plain": [
              "                                                 image  clas\n",
              "0    /content/tiny-imagenet-200/train/n02281406/n02...     0\n",
              "1    /content/tiny-imagenet-200/train/n02281406/ima...     0\n",
              "2    /content/tiny-imagenet-200/train/n02281406/ima...     0\n",
              "3    /content/tiny-imagenet-200/train/n02281406/ima...     0\n",
              "4    /content/tiny-imagenet-200/train/n02281406/ima...     0\n",
              "..                                                 ...   ...\n",
              "995  /content/tiny-imagenet-200/train/n02814533/ima...     1\n",
              "996  /content/tiny-imagenet-200/train/n02814533/ima...     1\n",
              "997  /content/tiny-imagenet-200/train/n02814533/ima...     1\n",
              "998  /content/tiny-imagenet-200/train/n02814533/ima...     1\n",
              "999  /content/tiny-imagenet-200/train/n02814533/ima...     1\n",
              "\n",
              "[1000 rows x 2 columns]"
            ]
          },
          "metadata": {
            "tags": []
          },
          "execution_count": 47
        }
      ]
    },
    {
      "cell_type": "code",
      "metadata": {
        "id": "yGIQpOxSUtOY"
      },
      "source": [
        "#newdata = newdata.sample(frac =.50) "
      ],
      "execution_count": 48,
      "outputs": []
    },
    {
      "cell_type": "code",
      "metadata": {
        "id": "2PG0mxjuWLvg"
      },
      "source": [
        "#newdata=newdata.reset_index()\r\n"
      ],
      "execution_count": 49,
      "outputs": []
    },
    {
      "cell_type": "code",
      "metadata": {
        "id": "dcDL79BkyjGj"
      },
      "source": [
        "for j in range(0,len(newdata)):\r\n",
        "  x=newdata[\"image\"][j].split(\"/\")\r\n",
        "  x=str(x[5])\r\n",
        "  if x.endswith(\".txt\"):\r\n",
        "    newdata=newdata.drop(j)\r\n"
      ],
      "execution_count": 50,
      "outputs": []
    },
    {
      "cell_type": "code",
      "metadata": {
        "colab": {
          "base_uri": "https://localhost:8080/",
          "height": 350
        },
        "id": "vQZLA50i6ERw",
        "outputId": "a9522dea-5a83-4c6f-ac46-5ce493d9d5d1"
      },
      "source": [
        "import numpy as np \r\n",
        "import matplotlib.pyplot as plt\r\n",
        "import collections\r\n",
        "data = newdata[\"clas\"]\r\n",
        "counter=collections.Counter(data)\r\n",
        "courses = list(counter.keys()) \r\n",
        "height= list(counter.values())\r\n",
        "\r\n",
        "#values = list(data.values()) \r\n",
        "fig = plt.figure(figsize = (10, 5)) \r\n",
        "plt.bar(courses,height ,color ='maroon', \r\n",
        "\t\twidth = 0.4) \r\n",
        "\r\n",
        "plt.xlabel(\"Courses offered\") \r\n",
        "plt.ylabel(\"No. of students enrolled\") \r\n",
        "plt.title(\"Students enrolled in different courses\") \r\n",
        "plt.show() \r\n"
      ],
      "execution_count": 51,
      "outputs": [
        {
          "output_type": "display_data",
          "data": {
            "image/png": "[encoded data removed]",
            "text/plain": [
              "<Figure size 720x360 with 1 Axes>"
            ]
          },
          "metadata": {
            "tags": [],
            "needs_background": "light"
          }
        }
      ]
    },
    {
      "cell_type": "code",
      "metadata": {
        "id": "VIZucBlEvCwx"
      },
      "source": [
        "count=0\r\n",
        "image1=[]\r\n",
        "for i  in (newdata[\"image\"]):\r\n",
        "  try:\r\n",
        "    image = cv2.imread(i)\r\n",
        "    #cv2_imshow(image)\r\n",
        "    image1.append(image)\r\n",
        "  except:\r\n",
        "    count=count+1\r\n",
        "    print(count)"
      ],
      "execution_count": 52,
      "outputs": []
    },
    {
      "cell_type": "code",
      "metadata": {
        "id": "8o_sAQkry3H-"
      },
      "source": [
        "y=newdata[\"clas\"]\r\n",
        "y=np.array(y)\r\n",
        "x=np.array(image1)"
      ],
      "execution_count": 53,
      "outputs": []
    },
    {
      "cell_type": "code",
      "metadata": {
        "id": "xt3eAShO-wUq"
      },
      "source": [
        "label_encoder = LabelEncoder()\r\n",
        "integer_encoded = label_encoder.fit_transform(y)\r\n",
        "onehot_encoder = OneHotEncoder(sparse=False)\r\n",
        "integer_encoded = integer_encoded.reshape(len(integer_encoded), 1)\r\n",
        "y = onehot_encoder.fit_transform(integer_encoded)"
      ],
      "execution_count": 54,
      "outputs": []
    },
    {
      "cell_type": "code",
      "metadata": {
        "id": "_TRMxNZQ_RoN"
      },
      "source": [
        "#inverted = label_encoder.inverse_transform([argmax(onehot_encoded[0, :])])\r\n",
        "#print(inverted)"
      ],
      "execution_count": 55,
      "outputs": []
    },
    {
      "cell_type": "code",
      "metadata": {
        "id": "45lRrbFW_YaH"
      },
      "source": [
        "\r\n",
        "x1_train, x1_test, x2_train, x2_test=train_test_split(x,y,test_size=0.3)"
      ],
      "execution_count": 56,
      "outputs": []
    },
    {
      "cell_type": "code",
      "metadata": {
        "colab": {
          "base_uri": "https://localhost:8080/"
        },
        "id": "4LDTJIudXW-E",
        "outputId": "feb2bf6c-6858-444a-863b-b820da264bc0"
      },
      "source": [
        "print(x1_train.shape)\r\n",
        "print(x1_test.shape)\r\n",
        "print(x2_train.shape)\r\n",
        "print(x2_test.shape)"
      ],
      "execution_count": 57,
      "outputs": [
        {
          "output_type": "stream",
          "text": [
            "(698, 64, 64, 3)\n",
            "(300, 64, 64, 3)\n",
            "(698, 2)\n",
            "(300, 2)\n"
          ],
          "name": "stdout"
        }
      ]
    },
    {
      "cell_type": "code",
      "metadata": {
        "id": "pkbdee8xCsU9"
      },
      "source": [
        "x1_train=x1_train.reshape(x1_train.shape[0],64,64,3)\r\n",
        "x1_test=x1_test.reshape(x1_test.shape[0],64,64,3)"
      ],
      "execution_count": 58,
      "outputs": []
    },
    {
      "cell_type": "code",
      "metadata": {
        "id": "6RCw8W1mARMa"
      },
      "source": [
        "x1_train=x1_train.astype('float32')\r\n",
        "x2_train=x2_train.astype('float32')\r\n"
      ],
      "execution_count": 59,
      "outputs": []
    },
    {
      "cell_type": "code",
      "metadata": {
        "id": "6A5bQ30kAXDU"
      },
      "source": [
        "x1_train=x1_train / 255.0\r\n",
        "x2_train=x2_train /255\r\n",
        "x1_test=x1_test /255\r\n",
        "x2_test=x2_test /255"
      ],
      "execution_count": 60,
      "outputs": []
    },
    {
      "cell_type": "code",
      "metadata": {
        "id": "ztWN8gpsD5J9",
        "colab": {
          "base_uri": "https://localhost:8080/"
        },
        "outputId": "ac61cbd7-d684-47cd-98fe-0c0554ac6b98"
      },
      "source": [
        "\r\n",
        "model = Sequential()\r\n",
        "model.add(Conv2D(5,(1,1),padding=\"same\", activation=\"relu\", input_shape=(64,64,3)))\r\n",
        "model.add(Dropout(0.4))\r\n",
        "model.add(Flatten())\r\n",
        "model.add(Dense(1000,activation=\"relu\"))\r\n",
        "model.add(Dense(2, activation=\"sigmoid\"))\r\n",
        "model.summary()"
      ],
      "execution_count": 61,
      "outputs": [
        {
          "output_type": "stream",
          "text": [
            "Model: \"sequential_2\"\n",
            "_________________________________________________________________\n",
            "Layer (type)                 Output Shape              Param #   \n",
            "=================================================================\n",
            "conv2d_6 (Conv2D)            (None, 64, 64, 5)         20        \n",
            "_________________________________________________________________\n",
            "dropout_1 (Dropout)          (None, 64, 64, 5)         0         \n",
            "_________________________________________________________________\n",
            "flatten_2 (Flatten)          (None, 20480)             0         \n",
            "_________________________________________________________________\n",
            "dense_4 (Dense)              (None, 1000)              20481000  \n",
            "_________________________________________________________________\n",
            "dense_5 (Dense)              (None, 2)                 2002      \n",
            "=================================================================\n",
            "Total params: 20,483,022\n",
            "Trainable params: 20,483,022\n",
            "Non-trainable params: 0\n",
            "_________________________________________________________________\n"
          ],
          "name": "stdout"
        }
      ]
    },
    {
      "cell_type": "code",
      "metadata": {
        "id": "NnzickH7ELXt"
      },
      "source": [
        "opt = Adam(lr=0.00001)\r\n",
        "model.compile(optimizer = opt , loss = \"binary_crossentropy\" , metrics = ['accuracy'])"
      ],
      "execution_count": 62,
      "outputs": []
    },
    {
      "cell_type": "code",
      "metadata": {
        "id": "eQTOWE9JOcuW"
      },
      "source": [
        "datagen = ImageDataGenerator(featurewise_center=False,samplewise_center=False,featurewise_std_normalization=False,samplewise_std_normalization=False,zca_whitening=False,\r\n",
        "      rotation_range = 30,zoom_range = 0.2,width_shift_range=0.1,height_shift_range=0.1, horizontal_flip = True,vertical_flip=False)  "
      ],
      "execution_count": 63,
      "outputs": []
    },
    {
      "cell_type": "code",
      "metadata": {
        "id": "BUlrt6LVmUyL"
      },
      "source": [
        "batch_size=50"
      ],
      "execution_count": 64,
      "outputs": []
    },
    {
      "cell_type": "markdown",
      "metadata": {
        "id": "cqJ-jmJq3Rjj"
      },
      "source": [
        "class 2"
      ]
    },
    {
      "cell_type": "code",
      "metadata": {
        "id": "_NEzDA8JlpAj"
      },
      "source": [
        "model.fit_generator(datagen.flow(x1_train,x2_train, batch_size=batch_size),epochs=90,steps_per_epoch=x1_train.shape[0]//batch_size,validation_data=(x1_test, x2_test),validation_steps=x1_test.shape[0]//batch_size\r\n",
        "                    ,callbacks=[PlotLossesKeras()])"
      ],
      "execution_count": 65,
      "outputs": []
    },
    {
      "cell_type": "markdown",
      "metadata": {
        "id": "vC4NMtAO5_sl"
      },
      "source": [
        "**taking 20 classes**"
      ]
    },
    {
      "cell_type": "code",
      "metadata": {
        "id": "OumY8JJO6U0B"
      },
      "source": [
        "newdata=clas10\r\n"
      ],
      "execution_count": 66,
      "outputs": []
    },
    {
      "cell_type": "code",
      "metadata": {
        "id": "SkDKr_rd6CSg"
      },
      "source": [
        "for j in range(0,len(newdata)):\r\n",
        "  x=newdata[\"image\"][j].split(\"/\")\r\n",
        "  x=str(x[5])\r\n",
        "  if x.endswith(\".txt\"):\r\n",
        "    newdata=newdata.drop(j)"
      ],
      "execution_count": 67,
      "outputs": []
    },
    {
      "cell_type": "code",
      "metadata": {
        "id": "KyxG65iDzvop"
      },
      "source": [
        "image11=64\r\n",
        "image22=64"
      ],
      "execution_count": 68,
      "outputs": []
    },
    {
      "cell_type": "code",
      "metadata": {
        "id": "U2WuOGh-6nFA"
      },
      "source": [
        "count=0\r\n",
        "image2=[]\r\n",
        "for i  in (newdata[\"image\"]):\r\n",
        "  try:\r\n",
        "    image = cv2.imread(i)\r\n",
        "    image = cv2.cvtColor(image, cv2.COLOR_BGR2GRAY)\r\n",
        "    image = cv2.resize(image, (image11,image22))\r\n",
        "    #cv2_imshow(image)\r\n",
        "    image2.append(image)\r\n",
        "  except:\r\n",
        "    count=count+1\r\n",
        "    print(count)"
      ],
      "execution_count": 69,
      "outputs": []
    },
    {
      "cell_type": "code",
      "metadata": {
        "id": "c96heVRo6yo5"
      },
      "source": [
        "y=newdata[\"clas\"]\r\n",
        "y=np.array(y)\r\n",
        "x=np.array(image2)\r\n"
      ],
      "execution_count": 70,
      "outputs": []
    },
    {
      "cell_type": "code",
      "metadata": {
        "id": "uinSSHik7G8a"
      },
      "source": [
        "label_encoder = LabelEncoder()\r\n",
        "integer_encoded = label_encoder.fit_transform(y)\r\n",
        "onehot_encoder = OneHotEncoder(sparse=False)\r\n",
        "integer_encoded = integer_encoded.reshape(len(integer_encoded), 1)\r\n",
        "y = onehot_encoder.fit_transform(integer_encoded)"
      ],
      "execution_count": 71,
      "outputs": []
    },
    {
      "cell_type": "code",
      "metadata": {
        "id": "epNSuzk87VnR"
      },
      "source": [
        "x1_train, x1_test, x2_train, x2_test=train_test_split(x,y,test_size=0.3)"
      ],
      "execution_count": 72,
      "outputs": []
    },
    {
      "cell_type": "code",
      "metadata": {
        "id": "A2eSu2pP7d3G"
      },
      "source": [
        "x1_train=x1_train.reshape(x1_train.shape[0],image11,image22,1)\r\n",
        "x1_test=x1_test.reshape(x1_test.shape[0],image11,image22,1)"
      ],
      "execution_count": 73,
      "outputs": []
    },
    {
      "cell_type": "code",
      "metadata": {
        "id": "YIy70Jb-7j1R"
      },
      "source": [
        "x1_train=x1_train.astype('float32')\r\n",
        "x2_train=x2_train.astype('float32')"
      ],
      "execution_count": 74,
      "outputs": []
    },
    {
      "cell_type": "code",
      "metadata": {
        "id": "SB_TR89J7qJF"
      },
      "source": [
        "x1_train=x1_train / 255.0\r\n",
        "x2_train=x2_train /255\r\n",
        "x1_test=x1_test /255\r\n",
        "x2_test=x2_test /255"
      ],
      "execution_count": 75,
      "outputs": []
    },
    {
      "cell_type": "code",
      "metadata": {
        "colab": {
          "base_uri": "https://localhost:8080/"
        },
        "id": "8P07qBZx7voO",
        "outputId": "1bd607f0-4481-4d98-d6cc-77844ae04253"
      },
      "source": [
        "model = Sequential()\r\n",
        "model.add(Conv2D(100,(1,1),padding=\"same\", activation=\"relu\", input_shape=(image11,image22,1)))\r\n",
        "model.add(BatchNormalization())\r\n",
        "model.add(MaxPool2D(2,2))\r\n",
        "model.add(Conv2D(256, (1,1), padding=\"same\", activation=\"relu\"))\r\n",
        "model.add(BatchNormalization())\r\n",
        "model.add(MaxPool2D(2,2))\r\n",
        "model.add(Conv2D(375, (1,1), padding=\"same\", activation=\"relu\"))\r\n",
        "model.add(BatchNormalization())\r\n",
        "model.add(MaxPool2D(2,2))\r\n",
        "model.add(Conv2D(400, (1,1), padding=\"same\", activation=\"relu\"))\r\n",
        "model.add(BatchNormalization())\r\n",
        "model.add(MaxPool2D(2,2))\r\n",
        "model.add(Conv2D(450, (1,1), padding=\"same\", activation=\"relu\"))\r\n",
        "model.add(Flatten())\r\n",
        "model.add(Dense(500,activation=\"relu\"))\r\n",
        "model.add(Dense(20, activation=\"sigmoid\"))\r\n",
        "model.summary()"
      ],
      "execution_count": 76,
      "outputs": [
        {
          "output_type": "stream",
          "text": [
            "Model: \"sequential_3\"\n",
            "_________________________________________________________________\n",
            "Layer (type)                 Output Shape              Param #   \n",
            "=================================================================\n",
            "conv2d_7 (Conv2D)            (None, 64, 64, 100)       200       \n",
            "_________________________________________________________________\n",
            "batch_normalization_4 (Batch (None, 64, 64, 100)       400       \n",
            "_________________________________________________________________\n",
            "max_pooling2d_4 (MaxPooling2 (None, 32, 32, 100)       0         \n",
            "_________________________________________________________________\n",
            "conv2d_8 (Conv2D)            (None, 32, 32, 256)       25856     \n",
            "_________________________________________________________________\n",
            "batch_normalization_5 (Batch (None, 32, 32, 256)       1024      \n",
            "_________________________________________________________________\n",
            "max_pooling2d_5 (MaxPooling2 (None, 16, 16, 256)       0         \n",
            "_________________________________________________________________\n",
            "conv2d_9 (Conv2D)            (None, 16, 16, 375)       96375     \n",
            "_________________________________________________________________\n",
            "batch_normalization_6 (Batch (None, 16, 16, 375)       1500      \n",
            "_________________________________________________________________\n",
            "max_pooling2d_6 (MaxPooling2 (None, 8, 8, 375)         0         \n",
            "_________________________________________________________________\n",
            "conv2d_10 (Conv2D)           (None, 8, 8, 400)         150400    \n",
            "_________________________________________________________________\n",
            "batch_normalization_7 (Batch (None, 8, 8, 400)         1600      \n",
            "_________________________________________________________________\n",
            "max_pooling2d_7 (MaxPooling2 (None, 4, 4, 400)         0         \n",
            "_________________________________________________________________\n",
            "conv2d_11 (Conv2D)           (None, 4, 4, 450)         180450    \n",
            "_________________________________________________________________\n",
            "flatten_3 (Flatten)          (None, 7200)              0         \n",
            "_________________________________________________________________\n",
            "dense_6 (Dense)              (None, 500)               3600500   \n",
            "_________________________________________________________________\n",
            "dense_7 (Dense)              (None, 20)                10020     \n",
            "=================================================================\n",
            "Total params: 4,068,325\n",
            "Trainable params: 4,066,063\n",
            "Non-trainable params: 2,262\n",
            "_________________________________________________________________\n"
          ],
          "name": "stdout"
        }
      ]
    },
    {
      "cell_type": "code",
      "metadata": {
        "id": "gRI6IcoJ76xN"
      },
      "source": [
        "opt = Adam(lr=0.00001)\r\n",
        "model.compile(optimizer = opt , loss = \"binary_crossentropy\" , metrics = ['accuracy'])"
      ],
      "execution_count": 77,
      "outputs": []
    },
    {
      "cell_type": "code",
      "metadata": {
        "colab": {
          "base_uri": "https://localhost:8080/",
          "height": 727
        },
        "id": "EIFW_JC68E1n",
        "outputId": "a132119a-89f5-4b8f-d86f-48b0cf6ec184"
      },
      "source": [
        "model.fit_generator(datagen.flow(x1_train,x2_train, batch_size=50), \r\n",
        "                    epochs=200,\r\n",
        "                    steps_per_epoch=x1_train.shape[0]//batch_size, \r\n",
        "                    validation_data=(x1_test, x2_test),\r\n",
        "                    validation_steps=x1_test.shape[0]//batch_size\r\n",
        "                    ,callbacks=[PlotLossesKeras()])"
      ],
      "execution_count": null,
      "outputs": [
        {
          "output_type": "display_data",
          "data": {
            "image/png": "[encoded data removed]",
            "text/plain": [
              "<Figure size 864x576 with 2 Axes>"
            ]
          },
          "metadata": {
            "tags": [],
            "needs_background": "light"
          }
        },
        {
          "output_type": "stream",
          "text": [
            "accuracy\n",
            "\ttraining         \t (min:    0.047, max:    0.252, cur:    0.248)\n",
            "\tvalidation       \t (min:    0.044, max:    0.232, cur:    0.232)\n",
            "Loss\n",
            "\ttraining         \t (min:    0.002, max:    0.109, cur:    0.002)\n",
            "\tvalidation       \t (min:    0.002, max:    0.160, cur:    0.002)\n",
            "Epoch 55/200\n",
            " 83/139 [================>.............] - ETA: 1s - loss: 0.0018 - accuracy: 0.2521"
          ],
          "name": "stdout"
        }
      ]
    }
  ]
}